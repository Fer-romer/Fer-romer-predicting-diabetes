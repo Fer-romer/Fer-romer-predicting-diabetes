{
 "cells": [
  {
   "cell_type": "markdown",
   "metadata": {},
   "source": [
    "# Machine Learning"
   ]
  },
  {
   "cell_type": "code",
   "execution_count": 21,
   "metadata": {},
   "outputs": [],
   "source": [
    "import pandas as pd\n",
    "from sklearn.linear_model import LinearRegression\n",
    "from sklearn.metrics import mean_absolute_error, r2_score\n",
    "from sklearn.metrics import root_mean_squared_error\n",
    "import warnings\n",
    "\n",
    "def ignore_warn(*args, **kwargs):\n",
    "    pass\n",
    "warnings.warn = ignore_warn # ignore annoying warning (from sklearn and seaborn)"
   ]
  },
  {
   "cell_type": "markdown",
   "metadata": {},
   "source": [
    "# 1 decision making"
   ]
  },
  {
   "cell_type": "code",
   "execution_count": 22,
   "metadata": {},
   "outputs": [],
   "source": [
    "# Train data frames\n",
    "X_train_with_outliers_sel = pd.read_csv('../data/processed/X_train_with_outliers_sel.csv')\n",
    "X_train_without_outliers_sel = pd.read_csv('../data/processed/X_train_without_outliers_sel.csv')\n",
    "X_train_with_outliers_norm_sel = pd.read_csv('../data/processed/X_train_with_outliers_norm_sel.csv')\n",
    "X_train_without_outliers_norm_sel = pd.read_csv('../data/processed/X_train_without_outliers_norm_sel.csv')\n",
    "X_train_with_outliers_minmax_sel = pd.read_csv('../data/processed/X_train_with_outliers_minmax_sel.csv')\n",
    "X_train_without_outliers_minmax_sel = pd.read_csv('../data/processed/X_train_without_outliers_minmax_sel.csv')\n",
    "y_train = pd.read_csv('../data/processed/y_train.csv')\n",
    "\n",
    "# Test data frames\n",
    "X_test_with_outliers_sel = pd.read_csv('../data/processed/X_test_with_outliers_sel.csv')\n",
    "X_test_without_outliers_sel = pd.read_csv('../data/processed/X_test_without_outliers_sel.csv')\n",
    "X_test_with_outliers_norm_sel = pd.read_csv('../data/processed/X_test_with_outliers_norm_sel.csv')\n",
    "X_test_without_outliers_norm_sel = pd.read_csv('../data/processed/X_test_without_outliers_norm_sel.csv')\n",
    "X_test_with_outliers_minmax_sel = pd.read_csv('../data/processed/X_test_with_outliers_minmax_sel.csv')\n",
    "X_test_without_outliers_minmax_sel = pd.read_csv('../data/processed/X_test_without_outliers_minmax_sel.csv')\n",
    "y_test = pd.read_csv('../data/processed/y_test.csv')"
   ]
  },
  {
   "cell_type": "code",
   "execution_count": 23,
   "metadata": {},
   "outputs": [
    {
     "data": {
      "text/plain": [
       "[{'index': 0,\n",
       "  'train_df': 'X_train_with_outliers_sel',\n",
       "  'Coefficient': array([[-0.00507172,  0.0007065 , -0.00013795,  0.00288967,  0.00017429,\n",
       "           0.00112649,  0.00069867,  0.07500283]]),\n",
       "  'MAE': 0.231332,\n",
       "  'RMSE': 0.289134,\n",
       "  'R2_score': 0.119608},\n",
       " {'index': 2,\n",
       "  'train_df': 'X_train_with_outliers_norm_sel',\n",
       "  'Coefficient': array([[-0.01679024,  0.02261425, -0.00255165,  0.04456272,  0.02024229,\n",
       "           0.0087126 ,  0.00803053,  0.03570025]]),\n",
       "  'MAE': 0.231332,\n",
       "  'RMSE': 0.289134,\n",
       "  'R2_score': 0.119608},\n",
       " {'index': 4,\n",
       "  'train_df': 'X_train_with_outliers_minmax_sel',\n",
       "  'Coefficient': array([[-0.08621916,  0.14059303, -0.01682936,  0.18204905,  0.14745097,\n",
       "           0.07558716,  0.04192003,  0.07500283]]),\n",
       "  'MAE': 0.231332,\n",
       "  'RMSE': 0.289134,\n",
       "  'R2_score': 0.119608},\n",
       " {'index': 1,\n",
       "  'train_df': 'X_train_without_outliers_sel',\n",
       "  'Coefficient': array([[-0.00529599,  0.00076969, -0.00026015,  0.00292052,  0.00015808,\n",
       "           0.00156428,  0.00079176,  0.0724183 ]]),\n",
       "  'MAE': 0.231041,\n",
       "  'RMSE': 0.289428,\n",
       "  'R2_score': 0.117819},\n",
       " {'index': 3,\n",
       "  'train_df': 'X_train_without_outliers_norm_sel',\n",
       "  'Coefficient': array([[-0.01749944,  0.02427005, -0.00390413,  0.04503844,  0.01564471,\n",
       "           0.01135478,  0.0090701 ,  0.03447005]]),\n",
       "  'MAE': 0.231041,\n",
       "  'RMSE': 0.289428,\n",
       "  'R2_score': 0.117819},\n",
       " {'index': 5,\n",
       "  'train_df': 'X_train_without_outliers_minmax_sel',\n",
       "  'Coefficient': array([[-0.08473583,  0.14046751, -0.02341374,  0.18399248,  0.06034723,\n",
       "           0.07273882,  0.04275489,  0.0724183 ]]),\n",
       "  'MAE': 0.231041,\n",
       "  'RMSE': 0.289428,\n",
       "  'R2_score': 0.117819}]"
      ]
     },
     "execution_count": 23,
     "metadata": {},
     "output_type": "execute_result"
    }
   ],
   "source": [
    "train_dicts = {\n",
    "  \"X_train_with_outliers_sel\": X_train_with_outliers_sel,\n",
    "  \"X_train_without_outliers_sel\": X_train_without_outliers_sel,\n",
    "  \"X_train_with_outliers_norm_sel\": X_train_with_outliers_norm_sel,\n",
    "  \"X_train_without_outliers_norm_sel\": X_train_without_outliers_norm_sel,\n",
    "  \"X_train_with_outliers_minmax_sel\": X_train_with_outliers_minmax_sel,\n",
    "  \"X_train_without_outliers_minmax_sel\": X_train_without_outliers_minmax_sel\n",
    "}\n",
    "\n",
    "test_dicts = {\n",
    "  \"X_test_with_outliers_sel\": X_test_with_outliers_sel,\n",
    "  \"X_test_without_outliers_sel\": X_test_without_outliers_sel,\n",
    "  \"X_test_with_outliers_norm_sel\": X_test_with_outliers_norm_sel,\n",
    "  \"X_test_without_outliers_norm_sel\": X_test_without_outliers_norm_sel,\n",
    "  \"X_test_with_outliers_minmax_sel\": X_test_with_outliers_minmax_sel,\n",
    "  \"X_test_without_outliers_minmax_sel\": X_test_without_outliers_minmax_sel\n",
    "}\n",
    "\n",
    "train_dfs = [\n",
    "  X_train_with_outliers_sel,\n",
    "  X_train_without_outliers_sel,\n",
    "  X_train_with_outliers_norm_sel,\n",
    "  X_train_without_outliers_norm_sel,\n",
    "  X_train_with_outliers_minmax_sel,\n",
    "  X_train_without_outliers_minmax_sel\n",
    "]\n",
    "test_dfs = [\n",
    "  X_test_with_outliers_sel,\n",
    "  X_test_without_outliers_sel,\n",
    "  X_test_with_outliers_norm_sel,\n",
    "  X_test_without_outliers_norm_sel,\n",
    "  X_test_with_outliers_minmax_sel,\n",
    "  X_test_without_outliers_minmax_sel\n",
    "]\n",
    "\n",
    "results = []\n",
    "\n",
    "for df_index in range(len(train_dfs)):\n",
    "  model = LinearRegression()\n",
    "  train_df = train_dfs[df_index]\n",
    "  model.fit(train_df, y_train)\n",
    "  y_train_pred = model.predict(train_df)\n",
    "  y_test_pred = model.predict(test_dfs[df_index])\n",
    "\n",
    "  results.append(\n",
    "    {\n",
    "        \"index\": df_index,\n",
    "        \"train_df\": list(train_dicts.keys())[df_index],\n",
    "        \"Coefficient\": model.coef_,\n",
    "        \"MAE\": round(mean_absolute_error(y_test, y_test_pred), 6),\n",
    "        \"RMSE\": round(root_mean_squared_error(y_test, y_test_pred), 6),\n",
    "        \"R2_score\": round(r2_score(y_test, y_test_pred), 6)\n",
    "    }\n",
    "  )\n",
    "\n",
    "resultados = sorted(results, key = lambda x: x[\"R2_score\"], reverse = True)\n",
    "resultados"
   ]
  },
  {
   "cell_type": "code",
   "execution_count": 24,
   "metadata": {},
   "outputs": [
    {
     "name": "stdout",
     "output_type": "stream",
     "text": [
      "The best train dataframe is |X_train_with_outliers_sel|.\n",
      "======================================================      \n",
      "| MAE: 0.231332   |\n",
      "----------------------\n",
      "| RMSE: 0.289134    |\n",
      "----------------------\n",
      "| R2_score: 0.119608 |\n",
      "======================\n"
     ]
    }
   ],
   "source": [
    "print (f\"The best train dataframe is |{resultados[0]['train_df']}|.\\n\\\n",
    "======================================================      \\n\\\n",
    "| MAE: {resultados[0]['MAE']}   |\\n\\\n",
    "----------------------\\n\\\n",
    "| RMSE: {resultados[0]['RMSE']}    |\\n\\\n",
    "----------------------\\n\\\n",
    "| R2_score: {resultados[0]['R2_score']} |\\n\\\n",
    "======================\")"
   ]
  }
 ],
 "metadata": {
  "kernelspec": {
   "display_name": "base",
   "language": "python",
   "name": "python3"
  },
  "language_info": {
   "codemirror_mode": {
    "name": "ipython",
    "version": 3
   },
   "file_extension": ".py",
   "mimetype": "text/x-python",
   "name": "python",
   "nbconvert_exporter": "python",
   "pygments_lexer": "ipython3",
   "version": "3.12.4"
  }
 },
 "nbformat": 4,
 "nbformat_minor": 2
}
